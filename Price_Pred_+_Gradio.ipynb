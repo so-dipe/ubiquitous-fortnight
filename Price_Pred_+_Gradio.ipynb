{
  "nbformat": 4,
  "nbformat_minor": 0,
  "metadata": {
    "colab": {
      "provenance": [],
      "authorship_tag": "ABX9TyO6as17am5udK1mrRncWQhG",
      "include_colab_link": true
    },
    "kernelspec": {
      "name": "python3",
      "display_name": "Python 3"
    },
    "language_info": {
      "name": "python"
    }
  },
  "cells": [
    {
      "cell_type": "markdown",
      "metadata": {
        "id": "view-in-github",
        "colab_type": "text"
      },
      "source": [
        "<a href=\"https://colab.research.google.com/github/so-dipe/ubiquitous-fortnight/blob/main/Price_Pred_%2B_Gradio.ipynb\" target=\"_parent\"><img src=\"https://colab.research.google.com/assets/colab-badge.svg\" alt=\"Open In Colab\"/></a>"
      ]
    },
    {
      "cell_type": "code",
      "source": [
        "! pip install category-encoders"
      ],
      "metadata": {
        "colab": {
          "base_uri": "https://localhost:8080/"
        },
        "id": "N2c_pFLt8coE",
        "outputId": "09cc4129-5dc9-47e2-98b4-146357cd06f1"
      },
      "execution_count": 173,
      "outputs": [
        {
          "output_type": "stream",
          "name": "stdout",
          "text": [
            "Collecting category-encoders\n",
            "  Downloading category_encoders-2.6.3-py2.py3-none-any.whl (81 kB)\n",
            "\u001b[?25l     \u001b[90m━━━━━━━━━━━━━━━━━━━━━━━━━━━━━━━━━━━━━━━━\u001b[0m \u001b[32m0.0/81.9 kB\u001b[0m \u001b[31m?\u001b[0m eta \u001b[36m-:--:--\u001b[0m\r\u001b[2K     \u001b[91m━━━━━━━━━━━━━━━\u001b[0m\u001b[90m╺\u001b[0m\u001b[90m━━━━━━━━━━━━━━━━━━━━━━━━\u001b[0m \u001b[32m30.7/81.9 kB\u001b[0m \u001b[31m1.5 MB/s\u001b[0m eta \u001b[36m0:00:01\u001b[0m\r\u001b[2K     \u001b[90m━━━━━━━━━━━━━━━━━━━━━━━━━━━━━━━━━━━━━━━━\u001b[0m \u001b[32m81.9/81.9 kB\u001b[0m \u001b[31m1.3 MB/s\u001b[0m eta \u001b[36m0:00:00\u001b[0m\n",
            "\u001b[?25hRequirement already satisfied: numpy>=1.14.0 in /usr/local/lib/python3.10/dist-packages (from category-encoders) (1.23.5)\n",
            "Requirement already satisfied: scikit-learn>=0.20.0 in /usr/local/lib/python3.10/dist-packages (from category-encoders) (1.2.2)\n",
            "Requirement already satisfied: scipy>=1.0.0 in /usr/local/lib/python3.10/dist-packages (from category-encoders) (1.11.4)\n",
            "Requirement already satisfied: statsmodels>=0.9.0 in /usr/local/lib/python3.10/dist-packages (from category-encoders) (0.14.1)\n",
            "Requirement already satisfied: pandas>=1.0.5 in /usr/local/lib/python3.10/dist-packages (from category-encoders) (1.5.3)\n",
            "Requirement already satisfied: patsy>=0.5.1 in /usr/local/lib/python3.10/dist-packages (from category-encoders) (0.5.4)\n",
            "Requirement already satisfied: python-dateutil>=2.8.1 in /usr/local/lib/python3.10/dist-packages (from pandas>=1.0.5->category-encoders) (2.8.2)\n",
            "Requirement already satisfied: pytz>=2020.1 in /usr/local/lib/python3.10/dist-packages (from pandas>=1.0.5->category-encoders) (2023.3.post1)\n",
            "Requirement already satisfied: six in /usr/local/lib/python3.10/dist-packages (from patsy>=0.5.1->category-encoders) (1.16.0)\n",
            "Requirement already satisfied: joblib>=1.1.1 in /usr/local/lib/python3.10/dist-packages (from scikit-learn>=0.20.0->category-encoders) (1.3.2)\n",
            "Requirement already satisfied: threadpoolctl>=2.0.0 in /usr/local/lib/python3.10/dist-packages (from scikit-learn>=0.20.0->category-encoders) (3.2.0)\n",
            "Requirement already satisfied: packaging>=21.3 in /usr/local/lib/python3.10/dist-packages (from statsmodels>=0.9.0->category-encoders) (23.2)\n",
            "Installing collected packages: category-encoders\n",
            "Successfully installed category-encoders-2.6.3\n"
          ]
        }
      ]
    },
    {
      "cell_type": "code",
      "execution_count": 1,
      "metadata": {
        "id": "fKpsudDv6Trb"
      },
      "outputs": [],
      "source": [
        "import pandas as pd"
      ]
    },
    {
      "cell_type": "code",
      "source": [
        "file_path = \"/content/products_export_1-2.csv\"\n",
        "\n",
        "df = pd.read_csv(file_path)\n",
        "print(df.shape)\n",
        "df.head()"
      ],
      "metadata": {
        "colab": {
          "base_uri": "https://localhost:8080/",
          "height": 637
        },
        "id": "uf7ArT5c6cQA",
        "outputId": "ba43b720-048b-46d5-daee-183f0943d80d"
      },
      "execution_count": 279,
      "outputs": [
        {
          "output_type": "stream",
          "name": "stdout",
          "text": [
            "(13285, 53)\n"
          ]
        },
        {
          "output_type": "execute_result",
          "data": {
            "text/plain": [
              "                        Handle                     Title  \\\n",
              "0        12395avocado-pull-toy          Avocado Pull Toy   \n",
              "1          12394plaid-shirt-3t          Plaid Shirt | 3T   \n",
              "2         12393heattech-tee-3t         HeatTech Tee | 3T   \n",
              "3              12392batman-bib                Batman Bib   \n",
              "4  12391plaid-bodysuit-6-12mos  Plaid Bodysuit | 6-12mos   \n",
              "\n",
              "                                         Body (HTML)         Vendor  \\\n",
              "0  <p>Holy Guacamole! Pull the avocado down and w...       Jellycat   \n",
              "1  <p>Long-sleeved white, red and light blue plai...  Jumping Beans   \n",
              "2  <p>White long-sleeved HeatTech t-shirt</p><p>S...         Uniqlo   \n",
              "3  <p>Soft water-resistant fabric Batman bib</p><...        Various   \n",
              "4  <p>Long-sleeved plaid dress shirt bodysuit</p>...            Gap   \n",
              "\n",
              "  Product Category         Type                                    Tags  \\\n",
              "0              NaN         Toys   23dec3, _badge_Jellycat, vendor_ET141   \n",
              "1              NaN         Tops  3T, _badge_Jumping Beans, vendor_ET141   \n",
              "2              NaN         Tops             _badge_Uniqlo, vendor_ET141   \n",
              "3              NaN  Accessories    23dec2, _badge_Various, vendor_ET141   \n",
              "4              NaN         Tops       6-12mos, _badge_Gap, vendor_ET141   \n",
              "\n",
              "  Published Option1 Name  Option1 Value  ...  Variant Weight Unit  \\\n",
              "0     False        Title  Default Title  ...                   kg   \n",
              "1     False        Title  Default Title  ...                   kg   \n",
              "2     False        Title  Default Title  ...                   kg   \n",
              "3      True        Title  Default Title  ...                   kg   \n",
              "4     False        Title  Default Title  ...                   kg   \n",
              "\n",
              "   Variant Tax Code  Cost per item  Included / Canada Price / Canada  \\\n",
              "0               NaN           3.25               True            NaN   \n",
              "1               NaN           3.25               True            NaN   \n",
              "2               NaN           2.75               True            NaN   \n",
              "3               NaN           1.40               True            NaN   \n",
              "4               NaN           3.90               True            NaN   \n",
              "\n",
              "   Compare At Price / Canada Included / United States  Price / United States  \\\n",
              "0                        NaN                     True                    NaN   \n",
              "1                        NaN                     True                    NaN   \n",
              "2                        NaN                     True                    NaN   \n",
              "3                        NaN                     True                    NaN   \n",
              "4                        NaN                     True                    NaN   \n",
              "\n",
              "  Compare At Price / United States  Status  \n",
              "0                              NaN  active  \n",
              "1                              NaN  active  \n",
              "2                              NaN  active  \n",
              "3                              NaN  active  \n",
              "4                              NaN  active  \n",
              "\n",
              "[5 rows x 53 columns]"
            ],
            "text/html": [
              "\n",
              "  <div id=\"df-6b2f67d9-30d0-4ef5-81ad-33823ad60bbe\" class=\"colab-df-container\">\n",
              "    <div>\n",
              "<style scoped>\n",
              "    .dataframe tbody tr th:only-of-type {\n",
              "        vertical-align: middle;\n",
              "    }\n",
              "\n",
              "    .dataframe tbody tr th {\n",
              "        vertical-align: top;\n",
              "    }\n",
              "\n",
              "    .dataframe thead th {\n",
              "        text-align: right;\n",
              "    }\n",
              "</style>\n",
              "<table border=\"1\" class=\"dataframe\">\n",
              "  <thead>\n",
              "    <tr style=\"text-align: right;\">\n",
              "      <th></th>\n",
              "      <th>Handle</th>\n",
              "      <th>Title</th>\n",
              "      <th>Body (HTML)</th>\n",
              "      <th>Vendor</th>\n",
              "      <th>Product Category</th>\n",
              "      <th>Type</th>\n",
              "      <th>Tags</th>\n",
              "      <th>Published</th>\n",
              "      <th>Option1 Name</th>\n",
              "      <th>Option1 Value</th>\n",
              "      <th>...</th>\n",
              "      <th>Variant Weight Unit</th>\n",
              "      <th>Variant Tax Code</th>\n",
              "      <th>Cost per item</th>\n",
              "      <th>Included / Canada</th>\n",
              "      <th>Price / Canada</th>\n",
              "      <th>Compare At Price / Canada</th>\n",
              "      <th>Included / United States</th>\n",
              "      <th>Price / United States</th>\n",
              "      <th>Compare At Price / United States</th>\n",
              "      <th>Status</th>\n",
              "    </tr>\n",
              "  </thead>\n",
              "  <tbody>\n",
              "    <tr>\n",
              "      <th>0</th>\n",
              "      <td>12395avocado-pull-toy</td>\n",
              "      <td>Avocado Pull Toy</td>\n",
              "      <td>&lt;p&gt;Holy Guacamole! Pull the avocado down and w...</td>\n",
              "      <td>Jellycat</td>\n",
              "      <td>NaN</td>\n",
              "      <td>Toys</td>\n",
              "      <td>23dec3, _badge_Jellycat, vendor_ET141</td>\n",
              "      <td>False</td>\n",
              "      <td>Title</td>\n",
              "      <td>Default Title</td>\n",
              "      <td>...</td>\n",
              "      <td>kg</td>\n",
              "      <td>NaN</td>\n",
              "      <td>3.25</td>\n",
              "      <td>True</td>\n",
              "      <td>NaN</td>\n",
              "      <td>NaN</td>\n",
              "      <td>True</td>\n",
              "      <td>NaN</td>\n",
              "      <td>NaN</td>\n",
              "      <td>active</td>\n",
              "    </tr>\n",
              "    <tr>\n",
              "      <th>1</th>\n",
              "      <td>12394plaid-shirt-3t</td>\n",
              "      <td>Plaid Shirt | 3T</td>\n",
              "      <td>&lt;p&gt;Long-sleeved white, red and light blue plai...</td>\n",
              "      <td>Jumping Beans</td>\n",
              "      <td>NaN</td>\n",
              "      <td>Tops</td>\n",
              "      <td>3T, _badge_Jumping Beans, vendor_ET141</td>\n",
              "      <td>False</td>\n",
              "      <td>Title</td>\n",
              "      <td>Default Title</td>\n",
              "      <td>...</td>\n",
              "      <td>kg</td>\n",
              "      <td>NaN</td>\n",
              "      <td>3.25</td>\n",
              "      <td>True</td>\n",
              "      <td>NaN</td>\n",
              "      <td>NaN</td>\n",
              "      <td>True</td>\n",
              "      <td>NaN</td>\n",
              "      <td>NaN</td>\n",
              "      <td>active</td>\n",
              "    </tr>\n",
              "    <tr>\n",
              "      <th>2</th>\n",
              "      <td>12393heattech-tee-3t</td>\n",
              "      <td>HeatTech Tee | 3T</td>\n",
              "      <td>&lt;p&gt;White long-sleeved HeatTech t-shirt&lt;/p&gt;&lt;p&gt;S...</td>\n",
              "      <td>Uniqlo</td>\n",
              "      <td>NaN</td>\n",
              "      <td>Tops</td>\n",
              "      <td>_badge_Uniqlo, vendor_ET141</td>\n",
              "      <td>False</td>\n",
              "      <td>Title</td>\n",
              "      <td>Default Title</td>\n",
              "      <td>...</td>\n",
              "      <td>kg</td>\n",
              "      <td>NaN</td>\n",
              "      <td>2.75</td>\n",
              "      <td>True</td>\n",
              "      <td>NaN</td>\n",
              "      <td>NaN</td>\n",
              "      <td>True</td>\n",
              "      <td>NaN</td>\n",
              "      <td>NaN</td>\n",
              "      <td>active</td>\n",
              "    </tr>\n",
              "    <tr>\n",
              "      <th>3</th>\n",
              "      <td>12392batman-bib</td>\n",
              "      <td>Batman Bib</td>\n",
              "      <td>&lt;p&gt;Soft water-resistant fabric Batman bib&lt;/p&gt;&lt;...</td>\n",
              "      <td>Various</td>\n",
              "      <td>NaN</td>\n",
              "      <td>Accessories</td>\n",
              "      <td>23dec2, _badge_Various, vendor_ET141</td>\n",
              "      <td>True</td>\n",
              "      <td>Title</td>\n",
              "      <td>Default Title</td>\n",
              "      <td>...</td>\n",
              "      <td>kg</td>\n",
              "      <td>NaN</td>\n",
              "      <td>1.40</td>\n",
              "      <td>True</td>\n",
              "      <td>NaN</td>\n",
              "      <td>NaN</td>\n",
              "      <td>True</td>\n",
              "      <td>NaN</td>\n",
              "      <td>NaN</td>\n",
              "      <td>active</td>\n",
              "    </tr>\n",
              "    <tr>\n",
              "      <th>4</th>\n",
              "      <td>12391plaid-bodysuit-6-12mos</td>\n",
              "      <td>Plaid Bodysuit | 6-12mos</td>\n",
              "      <td>&lt;p&gt;Long-sleeved plaid dress shirt bodysuit&lt;/p&gt;...</td>\n",
              "      <td>Gap</td>\n",
              "      <td>NaN</td>\n",
              "      <td>Tops</td>\n",
              "      <td>6-12mos, _badge_Gap, vendor_ET141</td>\n",
              "      <td>False</td>\n",
              "      <td>Title</td>\n",
              "      <td>Default Title</td>\n",
              "      <td>...</td>\n",
              "      <td>kg</td>\n",
              "      <td>NaN</td>\n",
              "      <td>3.90</td>\n",
              "      <td>True</td>\n",
              "      <td>NaN</td>\n",
              "      <td>NaN</td>\n",
              "      <td>True</td>\n",
              "      <td>NaN</td>\n",
              "      <td>NaN</td>\n",
              "      <td>active</td>\n",
              "    </tr>\n",
              "  </tbody>\n",
              "</table>\n",
              "<p>5 rows × 53 columns</p>\n",
              "</div>\n",
              "    <div class=\"colab-df-buttons\">\n",
              "\n",
              "  <div class=\"colab-df-container\">\n",
              "    <button class=\"colab-df-convert\" onclick=\"convertToInteractive('df-6b2f67d9-30d0-4ef5-81ad-33823ad60bbe')\"\n",
              "            title=\"Convert this dataframe to an interactive table.\"\n",
              "            style=\"display:none;\">\n",
              "\n",
              "  <svg xmlns=\"http://www.w3.org/2000/svg\" height=\"24px\" viewBox=\"0 -960 960 960\">\n",
              "    <path d=\"M120-120v-720h720v720H120Zm60-500h600v-160H180v160Zm220 220h160v-160H400v160Zm0 220h160v-160H400v160ZM180-400h160v-160H180v160Zm440 0h160v-160H620v160ZM180-180h160v-160H180v160Zm440 0h160v-160H620v160Z\"/>\n",
              "  </svg>\n",
              "    </button>\n",
              "\n",
              "  <style>\n",
              "    .colab-df-container {\n",
              "      display:flex;\n",
              "      gap: 12px;\n",
              "    }\n",
              "\n",
              "    .colab-df-convert {\n",
              "      background-color: #E8F0FE;\n",
              "      border: none;\n",
              "      border-radius: 50%;\n",
              "      cursor: pointer;\n",
              "      display: none;\n",
              "      fill: #1967D2;\n",
              "      height: 32px;\n",
              "      padding: 0 0 0 0;\n",
              "      width: 32px;\n",
              "    }\n",
              "\n",
              "    .colab-df-convert:hover {\n",
              "      background-color: #E2EBFA;\n",
              "      box-shadow: 0px 1px 2px rgba(60, 64, 67, 0.3), 0px 1px 3px 1px rgba(60, 64, 67, 0.15);\n",
              "      fill: #174EA6;\n",
              "    }\n",
              "\n",
              "    .colab-df-buttons div {\n",
              "      margin-bottom: 4px;\n",
              "    }\n",
              "\n",
              "    [theme=dark] .colab-df-convert {\n",
              "      background-color: #3B4455;\n",
              "      fill: #D2E3FC;\n",
              "    }\n",
              "\n",
              "    [theme=dark] .colab-df-convert:hover {\n",
              "      background-color: #434B5C;\n",
              "      box-shadow: 0px 1px 3px 1px rgba(0, 0, 0, 0.15);\n",
              "      filter: drop-shadow(0px 1px 2px rgba(0, 0, 0, 0.3));\n",
              "      fill: #FFFFFF;\n",
              "    }\n",
              "  </style>\n",
              "\n",
              "    <script>\n",
              "      const buttonEl =\n",
              "        document.querySelector('#df-6b2f67d9-30d0-4ef5-81ad-33823ad60bbe button.colab-df-convert');\n",
              "      buttonEl.style.display =\n",
              "        google.colab.kernel.accessAllowed ? 'block' : 'none';\n",
              "\n",
              "      async function convertToInteractive(key) {\n",
              "        const element = document.querySelector('#df-6b2f67d9-30d0-4ef5-81ad-33823ad60bbe');\n",
              "        const dataTable =\n",
              "          await google.colab.kernel.invokeFunction('convertToInteractive',\n",
              "                                                    [key], {});\n",
              "        if (!dataTable) return;\n",
              "\n",
              "        const docLinkHtml = 'Like what you see? Visit the ' +\n",
              "          '<a target=\"_blank\" href=https://colab.research.google.com/notebooks/data_table.ipynb>data table notebook</a>'\n",
              "          + ' to learn more about interactive tables.';\n",
              "        element.innerHTML = '';\n",
              "        dataTable['output_type'] = 'display_data';\n",
              "        await google.colab.output.renderOutput(dataTable, element);\n",
              "        const docLink = document.createElement('div');\n",
              "        docLink.innerHTML = docLinkHtml;\n",
              "        element.appendChild(docLink);\n",
              "      }\n",
              "    </script>\n",
              "  </div>\n",
              "\n",
              "\n",
              "<div id=\"df-5e4f4d26-0149-4518-8ace-84e0f426dc68\">\n",
              "  <button class=\"colab-df-quickchart\" onclick=\"quickchart('df-5e4f4d26-0149-4518-8ace-84e0f426dc68')\"\n",
              "            title=\"Suggest charts\"\n",
              "            style=\"display:none;\">\n",
              "\n",
              "<svg xmlns=\"http://www.w3.org/2000/svg\" height=\"24px\"viewBox=\"0 0 24 24\"\n",
              "     width=\"24px\">\n",
              "    <g>\n",
              "        <path d=\"M19 3H5c-1.1 0-2 .9-2 2v14c0 1.1.9 2 2 2h14c1.1 0 2-.9 2-2V5c0-1.1-.9-2-2-2zM9 17H7v-7h2v7zm4 0h-2V7h2v10zm4 0h-2v-4h2v4z\"/>\n",
              "    </g>\n",
              "</svg>\n",
              "  </button>\n",
              "\n",
              "<style>\n",
              "  .colab-df-quickchart {\n",
              "      --bg-color: #E8F0FE;\n",
              "      --fill-color: #1967D2;\n",
              "      --hover-bg-color: #E2EBFA;\n",
              "      --hover-fill-color: #174EA6;\n",
              "      --disabled-fill-color: #AAA;\n",
              "      --disabled-bg-color: #DDD;\n",
              "  }\n",
              "\n",
              "  [theme=dark] .colab-df-quickchart {\n",
              "      --bg-color: #3B4455;\n",
              "      --fill-color: #D2E3FC;\n",
              "      --hover-bg-color: #434B5C;\n",
              "      --hover-fill-color: #FFFFFF;\n",
              "      --disabled-bg-color: #3B4455;\n",
              "      --disabled-fill-color: #666;\n",
              "  }\n",
              "\n",
              "  .colab-df-quickchart {\n",
              "    background-color: var(--bg-color);\n",
              "    border: none;\n",
              "    border-radius: 50%;\n",
              "    cursor: pointer;\n",
              "    display: none;\n",
              "    fill: var(--fill-color);\n",
              "    height: 32px;\n",
              "    padding: 0;\n",
              "    width: 32px;\n",
              "  }\n",
              "\n",
              "  .colab-df-quickchart:hover {\n",
              "    background-color: var(--hover-bg-color);\n",
              "    box-shadow: 0 1px 2px rgba(60, 64, 67, 0.3), 0 1px 3px 1px rgba(60, 64, 67, 0.15);\n",
              "    fill: var(--button-hover-fill-color);\n",
              "  }\n",
              "\n",
              "  .colab-df-quickchart-complete:disabled,\n",
              "  .colab-df-quickchart-complete:disabled:hover {\n",
              "    background-color: var(--disabled-bg-color);\n",
              "    fill: var(--disabled-fill-color);\n",
              "    box-shadow: none;\n",
              "  }\n",
              "\n",
              "  .colab-df-spinner {\n",
              "    border: 2px solid var(--fill-color);\n",
              "    border-color: transparent;\n",
              "    border-bottom-color: var(--fill-color);\n",
              "    animation:\n",
              "      spin 1s steps(1) infinite;\n",
              "  }\n",
              "\n",
              "  @keyframes spin {\n",
              "    0% {\n",
              "      border-color: transparent;\n",
              "      border-bottom-color: var(--fill-color);\n",
              "      border-left-color: var(--fill-color);\n",
              "    }\n",
              "    20% {\n",
              "      border-color: transparent;\n",
              "      border-left-color: var(--fill-color);\n",
              "      border-top-color: var(--fill-color);\n",
              "    }\n",
              "    30% {\n",
              "      border-color: transparent;\n",
              "      border-left-color: var(--fill-color);\n",
              "      border-top-color: var(--fill-color);\n",
              "      border-right-color: var(--fill-color);\n",
              "    }\n",
              "    40% {\n",
              "      border-color: transparent;\n",
              "      border-right-color: var(--fill-color);\n",
              "      border-top-color: var(--fill-color);\n",
              "    }\n",
              "    60% {\n",
              "      border-color: transparent;\n",
              "      border-right-color: var(--fill-color);\n",
              "    }\n",
              "    80% {\n",
              "      border-color: transparent;\n",
              "      border-right-color: var(--fill-color);\n",
              "      border-bottom-color: var(--fill-color);\n",
              "    }\n",
              "    90% {\n",
              "      border-color: transparent;\n",
              "      border-bottom-color: var(--fill-color);\n",
              "    }\n",
              "  }\n",
              "</style>\n",
              "\n",
              "  <script>\n",
              "    async function quickchart(key) {\n",
              "      const quickchartButtonEl =\n",
              "        document.querySelector('#' + key + ' button');\n",
              "      quickchartButtonEl.disabled = true;  // To prevent multiple clicks.\n",
              "      quickchartButtonEl.classList.add('colab-df-spinner');\n",
              "      try {\n",
              "        const charts = await google.colab.kernel.invokeFunction(\n",
              "            'suggestCharts', [key], {});\n",
              "      } catch (error) {\n",
              "        console.error('Error during call to suggestCharts:', error);\n",
              "      }\n",
              "      quickchartButtonEl.classList.remove('colab-df-spinner');\n",
              "      quickchartButtonEl.classList.add('colab-df-quickchart-complete');\n",
              "    }\n",
              "    (() => {\n",
              "      let quickchartButtonEl =\n",
              "        document.querySelector('#df-5e4f4d26-0149-4518-8ace-84e0f426dc68 button');\n",
              "      quickchartButtonEl.style.display =\n",
              "        google.colab.kernel.accessAllowed ? 'block' : 'none';\n",
              "    })();\n",
              "  </script>\n",
              "</div>\n",
              "\n",
              "    </div>\n",
              "  </div>\n"
            ]
          },
          "metadata": {},
          "execution_count": 279
        }
      ]
    },
    {
      "cell_type": "code",
      "source": [
        "active_msk = df[\"Status\"] == \"active\"\n",
        "\n",
        "#filter active items\n",
        "df = df[active_msk]\n",
        "print(df[\"Status\"].unique())\n",
        "print(df.shape)"
      ],
      "metadata": {
        "colab": {
          "base_uri": "https://localhost:8080/"
        },
        "id": "xtA98ABV6w-Z",
        "outputId": "5a7322ba-e0b6-4f01-f9c6-28a8b3241c62"
      },
      "execution_count": 280,
      "outputs": [
        {
          "output_type": "stream",
          "name": "stdout",
          "text": [
            "['active']\n",
            "(8247, 53)\n"
          ]
        }
      ]
    },
    {
      "cell_type": "code",
      "source": [
        "df[\"Body (HTML)\"][1]"
      ],
      "metadata": {
        "colab": {
          "base_uri": "https://localhost:8080/",
          "height": 35
        },
        "id": "Du1njF4Z77Vt",
        "outputId": "f2372c9d-7eb1-4b56-dee7-ee812a704020"
      },
      "execution_count": 281,
      "outputs": [
        {
          "output_type": "execute_result",
          "data": {
            "text/plain": [
              "'<p>Long-sleeved white, red and light blue plaid dress shirt</p><p>Size: 3T</p><p>Condition: Very good *light pilling</p>'"
            ],
            "application/vnd.google.colaboratory.intrinsic+json": {
              "type": "string"
            }
          },
          "metadata": {},
          "execution_count": 281
        }
      ]
    },
    {
      "cell_type": "code",
      "source": [
        "from bs4 import BeautifulSoup\n",
        "\n",
        "def extract_info(html_content):\n",
        "    if pd.isnull(html_content):\n",
        "        return None, None, None\n",
        "\n",
        "    soup = BeautifulSoup(html_content, 'html.parser')\n",
        "    paragraphs = soup.find_all('p')\n",
        "    size = None\n",
        "    condition = None\n",
        "    additional_info = None\n",
        "\n",
        "    # Loop through paragraphs to find size, condition, and additional details\n",
        "    for p in paragraphs:\n",
        "        if 'Size:' in p.text:\n",
        "            size = p.text.replace('Size:', '').strip()  # Extract size\n",
        "        elif 'Condition:' in p.text:\n",
        "            condition_text = p.text.replace('Condition:', '').strip()\n",
        "            # Split based on asterisk (*) to separate condition and additional information\n",
        "            parts = condition_text.split('*')\n",
        "            condition = parts[0].strip()  # Extract condition\n",
        "            if len(parts) > 1:\n",
        "                additional_info = parts[1].strip()  # Extract additional information\n",
        "            break  # Break the loop once condition is found\n",
        "\n",
        "    return size, condition, additional_info"
      ],
      "metadata": {
        "id": "hbH3NIYQ8tcs"
      },
      "execution_count": 282,
      "outputs": []
    },
    {
      "cell_type": "code",
      "source": [
        "#check number of null values in Body (HTML)\n",
        "print(df['Body (HTML)'].isna().sum())\n",
        "\n",
        "#fill null values with zero\n",
        "df['Body (HTML)'].fillna(\"0\", inplace=True)"
      ],
      "metadata": {
        "colab": {
          "base_uri": "https://localhost:8080/"
        },
        "id": "Y86vkyX9A_t0",
        "outputId": "2ae1cb54-dad3-4ea0-fa12-bb7dfad5bb56"
      },
      "execution_count": 283,
      "outputs": [
        {
          "output_type": "stream",
          "name": "stdout",
          "text": [
            "5\n"
          ]
        }
      ]
    },
    {
      "cell_type": "code",
      "source": [
        "# Apply function to extract condition\n",
        "df['Size'], df['Condition'], df['Additional Info'] = zip(*df['Body (HTML)'].apply(extract_info))"
      ],
      "metadata": {
        "id": "6YlKYMNQ_eui"
      },
      "execution_count": 284,
      "outputs": []
    },
    {
      "cell_type": "code",
      "source": [
        "df['Condition'].unique()[:10]"
      ],
      "metadata": {
        "colab": {
          "base_uri": "https://localhost:8080/"
        },
        "id": "yOUn7ers__p6",
        "outputId": "663bd09b-516b-4d13-9209-9fb554c5829c"
      },
      "execution_count": 285,
      "outputs": [
        {
          "output_type": "execute_result",
          "data": {
            "text/plain": [
              "array(['Excellent', 'Very good', 'New without tags', 'Good',\n",
              "       'New with tags', 'Practically new', '',\n",
              "       'Play condition (some stains or marks, no rips)', 'New in box',\n",
              "       'New in package'], dtype=object)"
            ]
          },
          "metadata": {},
          "execution_count": 285
        }
      ]
    },
    {
      "cell_type": "code",
      "source": [
        "def categorize_condition(condition):\n",
        "    condition = condition.lower()  # Convert to lowercase for uniform comparison\n",
        "\n",
        "    if 'excellent' in condition:\n",
        "        return 'excellent'\n",
        "    elif 'very good' in condition:\n",
        "        return 'very good'\n",
        "    elif 'like new' in condition or 'practically new' in condition:\n",
        "        return 'like new'\n",
        "    elif 'new with tags' in condition:\n",
        "        return 'new with tags'\n",
        "    elif 'new without tags' in condition:\n",
        "        return 'new without tags'\n",
        "    elif 'good' in condition:\n",
        "        return 'good'\n",
        "    elif 'play' in condition:\n",
        "        return 'play'\n",
        "    else:\n",
        "        return 'unknown'  # Assign unknown for unknown/vague conditions or empty strings"
      ],
      "metadata": {
        "id": "r6eUZALHAY7U"
      },
      "execution_count": 286,
      "outputs": []
    },
    {
      "cell_type": "code",
      "source": [
        "df['Condition'].fillna(' ', inplace=True)\n",
        "\n",
        "df['Cleaned Condition'] = df['Condition'].apply(categorize_condition)"
      ],
      "metadata": {
        "id": "LWvPe2xCjs3W"
      },
      "execution_count": 287,
      "outputs": []
    },
    {
      "cell_type": "code",
      "source": [
        "def extract_size_from_title(title):\n",
        "    # Split the title using the '|' separator\n",
        "    parts = title.split('|')\n",
        "\n",
        "    if len(parts) > 1:\n",
        "        size_value = parts[1].strip()  # Extract the size value after the '|'\n",
        "        return size_value\n",
        "    else:\n",
        "        return \"unknown\""
      ],
      "metadata": {
        "id": "xmu-H7opAiMq"
      },
      "execution_count": 288,
      "outputs": []
    },
    {
      "cell_type": "code",
      "source": [
        "df['Size'] = df['Title'].apply(extract_size_from_title)"
      ],
      "metadata": {
        "id": "n8hk6of5A5kZ"
      },
      "execution_count": 289,
      "outputs": []
    },
    {
      "cell_type": "code",
      "source": [
        "# df['Size'].unique()"
      ],
      "metadata": {
        "id": "2iKvr5NAnPcU"
      },
      "execution_count": 290,
      "outputs": []
    },
    {
      "cell_type": "code",
      "source": [
        "df['Title'][df['Title'].str.contains('\\+')]"
      ],
      "metadata": {
        "colab": {
          "base_uri": "https://localhost:8080/"
        },
        "id": "Yh64iFZ2q0a-",
        "outputId": "9d4a31da-d69b-4129-c02f-45b05700ce52"
      },
      "execution_count": 291,
      "outputs": [
        {
          "output_type": "execute_result",
          "data": {
            "text/plain": [
              "11                              Top + Shorts Set | 12mos\n",
              "20                              Wooden Coin Bank + Coins\n",
              "24                                 Slide + Seek Ball Run\n",
              "42                                 Jumper + Tops | 24mos\n",
              "44                         Sweatshirt + Leggings | 24mos\n",
              "                              ...                       \n",
              "13036                      Blouse + Legging Set | 3-6mos\n",
              "13038                      Sweatshirt + Joggers | 3-6mos\n",
              "13052                         Dress + Bloomers | 6-12mos\n",
              "13218    Rocket + Stars Lightweight Sweatshirt | 6-12mos\n",
              "13237                      Red + White Shorts | 12-18mos\n",
              "Name: Title, Length: 336, dtype: object"
            ]
          },
          "metadata": {},
          "execution_count": 291
        }
      ]
    },
    {
      "cell_type": "code",
      "source": [
        "df['Type'].unique()"
      ],
      "metadata": {
        "colab": {
          "base_uri": "https://localhost:8080/"
        },
        "id": "lvLswpX3rgX6",
        "outputId": "ae2336d8-e9cd-493e-d54f-db74cbc77d11"
      },
      "execution_count": 292,
      "outputs": [
        {
          "output_type": "execute_result",
          "data": {
            "text/plain": [
              "array(['Toys', 'Tops', 'Accessories', 'Dresses + Skirts', 'Sweaters',\n",
              "       'Shorts', 'Sets', 'Rompers', 'Pants', 'PJs + Sleep Sacks', 'Swim',\n",
              "       'Footwear', 'Costumes', 'Outerwear', 'Gear', 'Maternity + Nursing',\n",
              "       'Short', 'Blazers + Suits', nan, 'Gift Cards'], dtype=object)"
            ]
          },
          "metadata": {},
          "execution_count": 292
        }
      ]
    },
    {
      "cell_type": "code",
      "source": [
        "df[\"joggers\"] = df['Title'].str.contains('Joggers') * 1\n",
        "df[\"jeans\"] = df['Title'].str.contains('Jeans') * 1\n",
        "df[\"leggings\"] = df['Title'].str.contains('Leggings') * 1"
      ],
      "metadata": {
        "id": "9v9YYZH_tSHp"
      },
      "execution_count": 293,
      "outputs": []
    },
    {
      "cell_type": "code",
      "source": [
        "feature_set = {\"Type\", \"Vendor\", \"Cleaned Condition\", \"Variant Price\"}\n",
        "# target ="
      ],
      "metadata": {
        "id": "CeCij2brtd_6"
      },
      "execution_count": 294,
      "outputs": []
    },
    {
      "cell_type": "code",
      "source": [
        "ds = df[list(feature_set)]\n",
        "ds.head()"
      ],
      "metadata": {
        "colab": {
          "base_uri": "https://localhost:8080/",
          "height": 206
        },
        "id": "IEnPpE1Yw5I8",
        "outputId": "b057f0ac-2a76-4abf-c298-f8736441fa96"
      },
      "execution_count": 295,
      "outputs": [
        {
          "output_type": "execute_result",
          "data": {
            "text/plain": [
              "  Cleaned Condition         Type         Vendor  Variant Price\n",
              "0         excellent         Toys       Jellycat           13.0\n",
              "1         very good         Tops  Jumping Beans           13.0\n",
              "2         excellent         Tops         Uniqlo           11.0\n",
              "3         excellent  Accessories        Various            7.0\n",
              "4         excellent         Tops            Gap           13.0"
            ],
            "text/html": [
              "\n",
              "  <div id=\"df-8bcb89a9-c20c-4462-8280-19dc90d9efba\" class=\"colab-df-container\">\n",
              "    <div>\n",
              "<style scoped>\n",
              "    .dataframe tbody tr th:only-of-type {\n",
              "        vertical-align: middle;\n",
              "    }\n",
              "\n",
              "    .dataframe tbody tr th {\n",
              "        vertical-align: top;\n",
              "    }\n",
              "\n",
              "    .dataframe thead th {\n",
              "        text-align: right;\n",
              "    }\n",
              "</style>\n",
              "<table border=\"1\" class=\"dataframe\">\n",
              "  <thead>\n",
              "    <tr style=\"text-align: right;\">\n",
              "      <th></th>\n",
              "      <th>Cleaned Condition</th>\n",
              "      <th>Type</th>\n",
              "      <th>Vendor</th>\n",
              "      <th>Variant Price</th>\n",
              "    </tr>\n",
              "  </thead>\n",
              "  <tbody>\n",
              "    <tr>\n",
              "      <th>0</th>\n",
              "      <td>excellent</td>\n",
              "      <td>Toys</td>\n",
              "      <td>Jellycat</td>\n",
              "      <td>13.0</td>\n",
              "    </tr>\n",
              "    <tr>\n",
              "      <th>1</th>\n",
              "      <td>very good</td>\n",
              "      <td>Tops</td>\n",
              "      <td>Jumping Beans</td>\n",
              "      <td>13.0</td>\n",
              "    </tr>\n",
              "    <tr>\n",
              "      <th>2</th>\n",
              "      <td>excellent</td>\n",
              "      <td>Tops</td>\n",
              "      <td>Uniqlo</td>\n",
              "      <td>11.0</td>\n",
              "    </tr>\n",
              "    <tr>\n",
              "      <th>3</th>\n",
              "      <td>excellent</td>\n",
              "      <td>Accessories</td>\n",
              "      <td>Various</td>\n",
              "      <td>7.0</td>\n",
              "    </tr>\n",
              "    <tr>\n",
              "      <th>4</th>\n",
              "      <td>excellent</td>\n",
              "      <td>Tops</td>\n",
              "      <td>Gap</td>\n",
              "      <td>13.0</td>\n",
              "    </tr>\n",
              "  </tbody>\n",
              "</table>\n",
              "</div>\n",
              "    <div class=\"colab-df-buttons\">\n",
              "\n",
              "  <div class=\"colab-df-container\">\n",
              "    <button class=\"colab-df-convert\" onclick=\"convertToInteractive('df-8bcb89a9-c20c-4462-8280-19dc90d9efba')\"\n",
              "            title=\"Convert this dataframe to an interactive table.\"\n",
              "            style=\"display:none;\">\n",
              "\n",
              "  <svg xmlns=\"http://www.w3.org/2000/svg\" height=\"24px\" viewBox=\"0 -960 960 960\">\n",
              "    <path d=\"M120-120v-720h720v720H120Zm60-500h600v-160H180v160Zm220 220h160v-160H400v160Zm0 220h160v-160H400v160ZM180-400h160v-160H180v160Zm440 0h160v-160H620v160ZM180-180h160v-160H180v160Zm440 0h160v-160H620v160Z\"/>\n",
              "  </svg>\n",
              "    </button>\n",
              "\n",
              "  <style>\n",
              "    .colab-df-container {\n",
              "      display:flex;\n",
              "      gap: 12px;\n",
              "    }\n",
              "\n",
              "    .colab-df-convert {\n",
              "      background-color: #E8F0FE;\n",
              "      border: none;\n",
              "      border-radius: 50%;\n",
              "      cursor: pointer;\n",
              "      display: none;\n",
              "      fill: #1967D2;\n",
              "      height: 32px;\n",
              "      padding: 0 0 0 0;\n",
              "      width: 32px;\n",
              "    }\n",
              "\n",
              "    .colab-df-convert:hover {\n",
              "      background-color: #E2EBFA;\n",
              "      box-shadow: 0px 1px 2px rgba(60, 64, 67, 0.3), 0px 1px 3px 1px rgba(60, 64, 67, 0.15);\n",
              "      fill: #174EA6;\n",
              "    }\n",
              "\n",
              "    .colab-df-buttons div {\n",
              "      margin-bottom: 4px;\n",
              "    }\n",
              "\n",
              "    [theme=dark] .colab-df-convert {\n",
              "      background-color: #3B4455;\n",
              "      fill: #D2E3FC;\n",
              "    }\n",
              "\n",
              "    [theme=dark] .colab-df-convert:hover {\n",
              "      background-color: #434B5C;\n",
              "      box-shadow: 0px 1px 3px 1px rgba(0, 0, 0, 0.15);\n",
              "      filter: drop-shadow(0px 1px 2px rgba(0, 0, 0, 0.3));\n",
              "      fill: #FFFFFF;\n",
              "    }\n",
              "  </style>\n",
              "\n",
              "    <script>\n",
              "      const buttonEl =\n",
              "        document.querySelector('#df-8bcb89a9-c20c-4462-8280-19dc90d9efba button.colab-df-convert');\n",
              "      buttonEl.style.display =\n",
              "        google.colab.kernel.accessAllowed ? 'block' : 'none';\n",
              "\n",
              "      async function convertToInteractive(key) {\n",
              "        const element = document.querySelector('#df-8bcb89a9-c20c-4462-8280-19dc90d9efba');\n",
              "        const dataTable =\n",
              "          await google.colab.kernel.invokeFunction('convertToInteractive',\n",
              "                                                    [key], {});\n",
              "        if (!dataTable) return;\n",
              "\n",
              "        const docLinkHtml = 'Like what you see? Visit the ' +\n",
              "          '<a target=\"_blank\" href=https://colab.research.google.com/notebooks/data_table.ipynb>data table notebook</a>'\n",
              "          + ' to learn more about interactive tables.';\n",
              "        element.innerHTML = '';\n",
              "        dataTable['output_type'] = 'display_data';\n",
              "        await google.colab.output.renderOutput(dataTable, element);\n",
              "        const docLink = document.createElement('div');\n",
              "        docLink.innerHTML = docLinkHtml;\n",
              "        element.appendChild(docLink);\n",
              "      }\n",
              "    </script>\n",
              "  </div>\n",
              "\n",
              "\n",
              "<div id=\"df-a3acc1e1-b9fa-417d-8adb-8ff724d7a20d\">\n",
              "  <button class=\"colab-df-quickchart\" onclick=\"quickchart('df-a3acc1e1-b9fa-417d-8adb-8ff724d7a20d')\"\n",
              "            title=\"Suggest charts\"\n",
              "            style=\"display:none;\">\n",
              "\n",
              "<svg xmlns=\"http://www.w3.org/2000/svg\" height=\"24px\"viewBox=\"0 0 24 24\"\n",
              "     width=\"24px\">\n",
              "    <g>\n",
              "        <path d=\"M19 3H5c-1.1 0-2 .9-2 2v14c0 1.1.9 2 2 2h14c1.1 0 2-.9 2-2V5c0-1.1-.9-2-2-2zM9 17H7v-7h2v7zm4 0h-2V7h2v10zm4 0h-2v-4h2v4z\"/>\n",
              "    </g>\n",
              "</svg>\n",
              "  </button>\n",
              "\n",
              "<style>\n",
              "  .colab-df-quickchart {\n",
              "      --bg-color: #E8F0FE;\n",
              "      --fill-color: #1967D2;\n",
              "      --hover-bg-color: #E2EBFA;\n",
              "      --hover-fill-color: #174EA6;\n",
              "      --disabled-fill-color: #AAA;\n",
              "      --disabled-bg-color: #DDD;\n",
              "  }\n",
              "\n",
              "  [theme=dark] .colab-df-quickchart {\n",
              "      --bg-color: #3B4455;\n",
              "      --fill-color: #D2E3FC;\n",
              "      --hover-bg-color: #434B5C;\n",
              "      --hover-fill-color: #FFFFFF;\n",
              "      --disabled-bg-color: #3B4455;\n",
              "      --disabled-fill-color: #666;\n",
              "  }\n",
              "\n",
              "  .colab-df-quickchart {\n",
              "    background-color: var(--bg-color);\n",
              "    border: none;\n",
              "    border-radius: 50%;\n",
              "    cursor: pointer;\n",
              "    display: none;\n",
              "    fill: var(--fill-color);\n",
              "    height: 32px;\n",
              "    padding: 0;\n",
              "    width: 32px;\n",
              "  }\n",
              "\n",
              "  .colab-df-quickchart:hover {\n",
              "    background-color: var(--hover-bg-color);\n",
              "    box-shadow: 0 1px 2px rgba(60, 64, 67, 0.3), 0 1px 3px 1px rgba(60, 64, 67, 0.15);\n",
              "    fill: var(--button-hover-fill-color);\n",
              "  }\n",
              "\n",
              "  .colab-df-quickchart-complete:disabled,\n",
              "  .colab-df-quickchart-complete:disabled:hover {\n",
              "    background-color: var(--disabled-bg-color);\n",
              "    fill: var(--disabled-fill-color);\n",
              "    box-shadow: none;\n",
              "  }\n",
              "\n",
              "  .colab-df-spinner {\n",
              "    border: 2px solid var(--fill-color);\n",
              "    border-color: transparent;\n",
              "    border-bottom-color: var(--fill-color);\n",
              "    animation:\n",
              "      spin 1s steps(1) infinite;\n",
              "  }\n",
              "\n",
              "  @keyframes spin {\n",
              "    0% {\n",
              "      border-color: transparent;\n",
              "      border-bottom-color: var(--fill-color);\n",
              "      border-left-color: var(--fill-color);\n",
              "    }\n",
              "    20% {\n",
              "      border-color: transparent;\n",
              "      border-left-color: var(--fill-color);\n",
              "      border-top-color: var(--fill-color);\n",
              "    }\n",
              "    30% {\n",
              "      border-color: transparent;\n",
              "      border-left-color: var(--fill-color);\n",
              "      border-top-color: var(--fill-color);\n",
              "      border-right-color: var(--fill-color);\n",
              "    }\n",
              "    40% {\n",
              "      border-color: transparent;\n",
              "      border-right-color: var(--fill-color);\n",
              "      border-top-color: var(--fill-color);\n",
              "    }\n",
              "    60% {\n",
              "      border-color: transparent;\n",
              "      border-right-color: var(--fill-color);\n",
              "    }\n",
              "    80% {\n",
              "      border-color: transparent;\n",
              "      border-right-color: var(--fill-color);\n",
              "      border-bottom-color: var(--fill-color);\n",
              "    }\n",
              "    90% {\n",
              "      border-color: transparent;\n",
              "      border-bottom-color: var(--fill-color);\n",
              "    }\n",
              "  }\n",
              "</style>\n",
              "\n",
              "  <script>\n",
              "    async function quickchart(key) {\n",
              "      const quickchartButtonEl =\n",
              "        document.querySelector('#' + key + ' button');\n",
              "      quickchartButtonEl.disabled = true;  // To prevent multiple clicks.\n",
              "      quickchartButtonEl.classList.add('colab-df-spinner');\n",
              "      try {\n",
              "        const charts = await google.colab.kernel.invokeFunction(\n",
              "            'suggestCharts', [key], {});\n",
              "      } catch (error) {\n",
              "        console.error('Error during call to suggestCharts:', error);\n",
              "      }\n",
              "      quickchartButtonEl.classList.remove('colab-df-spinner');\n",
              "      quickchartButtonEl.classList.add('colab-df-quickchart-complete');\n",
              "    }\n",
              "    (() => {\n",
              "      let quickchartButtonEl =\n",
              "        document.querySelector('#df-a3acc1e1-b9fa-417d-8adb-8ff724d7a20d button');\n",
              "      quickchartButtonEl.style.display =\n",
              "        google.colab.kernel.accessAllowed ? 'block' : 'none';\n",
              "    })();\n",
              "  </script>\n",
              "</div>\n",
              "\n",
              "    </div>\n",
              "  </div>\n"
            ]
          },
          "metadata": {},
          "execution_count": 295
        }
      ]
    },
    {
      "cell_type": "code",
      "source": [
        "import matplotlib.pyplot as plt\n",
        "import seaborn as sns\n",
        "\n",
        "# Scatter plot: Variant Price vs. Condition\n",
        "sns.scatterplot(x='Cleaned Condition', y='Variant Price', data=ds)\n",
        "plt.xlabel('Condition')\n",
        "plt.ylabel('Price')\n",
        "plt.title('Price vs. Condition')\n",
        "plt.xticks(rotation=90)\n",
        "plt.show()"
      ],
      "metadata": {
        "colab": {
          "base_uri": "https://localhost:8080/",
          "height": 577
        },
        "id": "7OajWpFvxZzT",
        "outputId": "58df8d67-b94c-4e53-ba55-c8810ff60cf5"
      },
      "execution_count": 296,
      "outputs": [
        {
          "output_type": "display_data",
          "data": {
            "text/plain": [
              "<Figure size 640x480 with 1 Axes>"
            ],
            "image/png": "[encoded data removed]"
          },
          "metadata": {}
        }
      ]
    },
    {
      "cell_type": "code",
      "source": [
        "# Scatter plot: Price vs. Type\n",
        "sns.scatterplot(x='Type', y='Variant Price', data=ds)\n",
        "plt.xlabel('Type')\n",
        "plt.ylabel('Variant Price')\n",
        "plt.title('Price vs. Type')\n",
        "plt.xticks(rotation=90)\n",
        "plt.show()\n"
      ],
      "metadata": {
        "colab": {
          "base_uri": "https://localhost:8080/",
          "height": 598
        },
        "id": "C_J8ZrbByDKs",
        "outputId": "30a19ce8-8453-438b-b5f8-19cd64c3ec21"
      },
      "execution_count": 297,
      "outputs": [
        {
          "output_type": "display_data",
          "data": {
            "text/plain": [
              "<Figure size 640x480 with 1 Axes>"
            ],
            "image/png": "[encoded data removed]"
          },
          "metadata": {}
        }
      ]
    },
    {
      "cell_type": "code",
      "source": [
        "# Plotting the histogram for 'Price'\n",
        "plt.hist(ds['Variant Price'], bins=20, color='skyblue', edgecolor='black')\n",
        "plt.xlabel('Price')\n",
        "plt.ylabel('Frequency')\n",
        "plt.title('Distribution of Price')\n",
        "plt.show()"
      ],
      "metadata": {
        "colab": {
          "base_uri": "https://localhost:8080/",
          "height": 472
        },
        "id": "uRGASRyXy4PW",
        "outputId": "eee21efa-a18e-4d42-90b0-57e6bdbd39bd"
      },
      "execution_count": 298,
      "outputs": [
        {
          "output_type": "display_data",
          "data": {
            "text/plain": [
              "<Figure size 640x480 with 1 Axes>"
            ],
            "image/png": "[encoded data removed]"
          },
          "metadata": {}
        }
      ]
    },
    {
      "cell_type": "code",
      "source": [
        "outlier_msk = ds['Variant Price'] < 300\n",
        "ds = ds[outlier_msk]"
      ],
      "metadata": {
        "id": "oR6oPB-q0rIn"
      },
      "execution_count": 299,
      "outputs": []
    },
    {
      "cell_type": "code",
      "source": [
        "plt.figure(figsize=(10, 6))\n",
        "\n",
        "# Create a scatter plot for Price vs Type, colored by Condition\n",
        "sns.scatterplot(x='Type', y='Variant Price', hue='Cleaned Condition', data=ds, palette='viridis')\n",
        "\n",
        "plt.xlabel('Type')\n",
        "plt.ylabel('Variant Price')\n",
        "plt.title('Price vs Type, Colored by Condition')\n",
        "\n",
        "plt.xticks(rotation=90)\n",
        "plt.legend(title='Condition')\n",
        "plt.tight_layout()\n",
        "\n",
        "plt.show()"
      ],
      "metadata": {
        "colab": {
          "base_uri": "https://localhost:8080/",
          "height": 607
        },
        "id": "hPi8wzgo1Bzw",
        "outputId": "724e3424-9812-48c0-855e-5caa36752a81"
      },
      "execution_count": 300,
      "outputs": [
        {
          "output_type": "display_data",
          "data": {
            "text/plain": [
              "<Figure size 1000x600 with 1 Axes>"
            ],
            "image/png": "[encoded data removed]"
          },
          "metadata": {}
        }
      ]
    },
    {
      "cell_type": "code",
      "source": [
        "ds['Type'].fillna('unknown', inplace=True)"
      ],
      "metadata": {
        "id": "irhdJg-O23JK"
      },
      "execution_count": 301,
      "outputs": []
    },
    {
      "cell_type": "code",
      "source": [
        "from sklearn.preprocessing import OrdinalEncoder, OneHotEncoder\n",
        "from sklearn.compose import ColumnTransformer\n",
        "from sklearn.pipeline import Pipeline\n",
        "from sklearn.linear_model import LinearRegression\n",
        "from sklearn.metrics import mean_squared_error, r2_score\n",
        "from sklearn.model_selection import train_test_split\n",
        "\n",
        "# Separate features (X) and the target variable (y)\n",
        "X = ds.drop(columns=['Variant Price'])  # Features (all columns except 'Variant Price')\n",
        "y = ds['Variant Price']  # Target variable\n",
        "\n",
        "# Splitting the data into training and testing sets\n",
        "X_train, X_test, y_train, y_test = train_test_split(X, y, test_size=0.2, random_state=42)"
      ],
      "metadata": {
        "id": "mmD93Oru45u6"
      },
      "execution_count": 302,
      "outputs": []
    },
    {
      "cell_type": "code",
      "source": [
        "categorical_cols = X.select_dtypes(include=['object']).columns.tolist()\n",
        "\n",
        "# Define the transformer for ordinal encoding\n",
        "ordinal_encoder = OrdinalEncoder(handle_unknown='use_encoded_value', unknown_value=-1)\n",
        "\n",
        "# Create a pipeline for encoding and modeling\n",
        "preprocessor = ColumnTransformer(\n",
        "    transformers=[\n",
        "        ('ord_encoder', ordinal_encoder, categorical_cols),\n",
        "    ],\n",
        "    remainder='passthrough'\n",
        ")\n",
        "\n",
        "# Create a linear regression model\n",
        "model = Pipeline(steps=[\n",
        "    ('preprocessor', preprocessor),\n",
        "    ('regressor', LinearRegression())\n",
        "])"
      ],
      "metadata": {
        "id": "IVa5wBZE6xZb"
      },
      "execution_count": 303,
      "outputs": []
    },
    {
      "cell_type": "code",
      "source": [
        "model.fit(X_train, y_train)\n",
        "\n",
        "# Make predictions on the test set\n",
        "y_pred = model.predict(X_test)\n",
        "\n",
        "# Evaluate the model\n",
        "mse = mean_squared_error(y_test, y_pred)\n",
        "r2 = r2_score(y_test, y_pred)\n",
        "\n",
        "print(f\"Mean Squared Error (Baseline Model): {mse}\")\n",
        "print(f\"R^2 Score (Baseline Model): {r2}\")"
      ],
      "metadata": {
        "colab": {
          "base_uri": "https://localhost:8080/"
        },
        "id": "3rTMh3Bv7LEo",
        "outputId": "791b1b38-334b-4b49-9375-5936ef9edf55"
      },
      "execution_count": 304,
      "outputs": [
        {
          "output_type": "stream",
          "name": "stdout",
          "text": [
            "Mean Squared Error (Baseline Model): 106.6695977879619\n",
            "R^2 Score (Baseline Model): 0.029797449854101377\n"
          ]
        }
      ]
    },
    {
      "cell_type": "code",
      "source": [
        "one_hot_encoder = OneHotEncoder(handle_unknown='ignore', sparse_output=False)\n",
        "\n",
        "# Create a pipeline for encoding and modeling\n",
        "preprocessor = ColumnTransformer(\n",
        "    transformers=[\n",
        "        ('one_hot_encoder', one_hot_encoder, categorical_cols),\n",
        "    ],\n",
        "    remainder='passthrough'\n",
        ")\n",
        "\n",
        "# Create a linear regression model\n",
        "model = Pipeline(steps=[\n",
        "    ('preprocessor', preprocessor),\n",
        "    ('regressor', LinearRegression())\n",
        "])\n",
        "\n",
        "# Fit the model on the training data\n",
        "model.fit(X_train, y_train)\n",
        "\n",
        "# Make predictions on the test set\n",
        "y_pred = model.predict(X_test)\n",
        "\n",
        "# Evaluate the model\n",
        "mse = mean_squared_error(y_test, y_pred)\n",
        "r2 = r2_score(y_test, y_pred)\n",
        "\n",
        "print(f\"Mean Squared Error: {mse}\")\n",
        "print(f\"R^2 Score: {r2}\")"
      ],
      "metadata": {
        "colab": {
          "base_uri": "https://localhost:8080/"
        },
        "id": "CAsjszvO7Omv",
        "outputId": "71d84772-dd7d-445d-f268-fefd39484765"
      },
      "execution_count": 305,
      "outputs": [
        {
          "output_type": "stream",
          "name": "stdout",
          "text": [
            "Mean Squared Error: 6.083002057170925e+21\n",
            "R^2 Score: -5.532733066212062e+19\n"
          ]
        }
      ]
    },
    {
      "cell_type": "code",
      "source": [
        "from category_encoders import TargetEncoder\n",
        "\n",
        "target_encode_col = ['Vendor']  # Column to target encode\n",
        "ordinal_encode_cols = X.select_dtypes(include=['object']).columns.difference(target_encode_col).tolist()\n",
        "\n",
        "# Define transformers for target and ordinal encoding\n",
        "target_encoder = TargetEncoder()\n",
        "ordinal_encoder = OrdinalEncoder(handle_unknown='use_encoded_value', unknown_value=-1)\n",
        "\n",
        "# Create a pipeline for encoding and modeling\n",
        "preprocessor = ColumnTransformer(\n",
        "    transformers=[\n",
        "        ('target_encoder', target_encoder, target_encode_col),\n",
        "        ('ordinal_encoder', ordinal_encoder, ordinal_encode_cols),\n",
        "    ],\n",
        "    remainder='passthrough'\n",
        ")\n",
        "\n",
        "# Create a linear regression model\n",
        "model = Pipeline(steps=[\n",
        "    ('preprocessor', preprocessor),\n",
        "    ('regressor', LinearRegression())\n",
        "])\n",
        "\n",
        "# Fit the model on the training data\n",
        "model.fit(X_train, y_train)\n",
        "\n",
        "# Make predictions on the test set\n",
        "y_pred = model.predict(X_test)\n",
        "\n",
        "# Evaluate the model\n",
        "mse = mean_squared_error(y_test, y_pred)\n",
        "r2 = r2_score(y_test, y_pred)\n",
        "\n",
        "print(f\"Mean Squared Error: {mse}\")\n",
        "print(f\"R^2 Score: {r2}\")"
      ],
      "metadata": {
        "colab": {
          "base_uri": "https://localhost:8080/"
        },
        "id": "MmcVRo_G7746",
        "outputId": "b1670364-e06a-4898-9289-8390321017ba"
      },
      "execution_count": 306,
      "outputs": [
        {
          "output_type": "stream",
          "name": "stdout",
          "text": [
            "Mean Squared Error: 85.66750567398981\n",
            "R^2 Score: 0.22081985689344197\n"
          ]
        }
      ]
    },
    {
      "cell_type": "code",
      "source": [
        "target_encode_col = ['Vendor']  # Column to target encode\n",
        "non_target_encode_cols = X.select_dtypes(include=['object']).columns.difference(target_encode_col).tolist()\n",
        "\n",
        "target_encoder = TargetEncoder()\n",
        "one_hot_encoder = OneHotEncoder(handle_unknown='ignore', sparse_output=False)\n",
        "\n",
        "# Create a pipeline for encoding and modeling\n",
        "preprocessor = ColumnTransformer(\n",
        "    transformers=[\n",
        "        ('target_encoder', target_encoder, target_encode_col),\n",
        "        ('one_hot_encoder', one_hot_encoder, non_target_encode_cols),\n",
        "    ],\n",
        "    remainder='passthrough'\n",
        ")\n",
        "\n",
        "# Create a linear regression model\n",
        "model = Pipeline(steps=[\n",
        "    ('preprocessor', preprocessor),\n",
        "    ('regressor', LinearRegression())\n",
        "])\n",
        "\n",
        "# Fit the model on the training data\n",
        "model.fit(X_train, y_train)\n",
        "\n",
        "# Make predictions on the test set\n",
        "y_pred = model.predict(X_test)\n",
        "\n",
        "# Evaluate the model\n",
        "mse = mean_squared_error(y_test, y_pred)\n",
        "r2 = r2_score(y_test, y_pred)\n",
        "\n",
        "print(f\"Mean Squared Error: {mse}\")\n",
        "print(f\"R^2 Score: {r2}\")"
      ],
      "metadata": {
        "colab": {
          "base_uri": "https://localhost:8080/"
        },
        "id": "RY7Jvs6W8aUt",
        "outputId": "608ac0f7-85da-4ac8-eb8c-f7e76e48761d"
      },
      "execution_count": 307,
      "outputs": [
        {
          "output_type": "stream",
          "name": "stdout",
          "text": [
            "Mean Squared Error: 75.21097066780905\n",
            "R^2 Score: 0.31592621464734105\n"
          ]
        }
      ]
    },
    {
      "cell_type": "code",
      "source": [
        "pipeline = Pipeline([\n",
        "    ('target_encoder', TargetEncoder()),\n",
        "    ('regressor', LinearRegression())\n",
        "])\n",
        "\n",
        "pipeline.fit(X_train, y_train)\n",
        "\n",
        "y_pred = pipeline.predict(X_test)\n",
        "\n",
        "mse = mean_squared_error(y_test, y_pred)\n",
        "r2 = r2_score(y_test, y_pred)\n",
        "\n",
        "print(f\"Mean Squared Error: {mse}\")\n",
        "print(f\"R^2 Score : {r2}\")"
      ],
      "metadata": {
        "colab": {
          "base_uri": "https://localhost:8080/"
        },
        "id": "GrKyAz_Q9v0A",
        "outputId": "de1e8a1c-22f5-45ca-9085-ce24a62e2b05"
      },
      "execution_count": 308,
      "outputs": [
        {
          "output_type": "stream",
          "name": "stdout",
          "text": [
            "Mean Squared Error: 73.41944074060865\n",
            "R^2 Score : 0.3322208941068776\n"
          ]
        }
      ]
    },
    {
      "cell_type": "code",
      "source": [
        "from sklearn.preprocessing import StandardScaler\n",
        "\n",
        "pipeline = Pipeline([\n",
        "    ('target_encoder', TargetEncoder()),\n",
        "    ('scaler', StandardScaler()),\n",
        "    ('regressor', LinearRegression())\n",
        "])\n",
        "\n",
        "pipeline.fit(X_train, y_train)\n",
        "\n",
        "y_pred = pipeline.predict(X_test)\n",
        "\n",
        "mse = mean_squared_error(y_test, y_pred)\n",
        "r2 = r2_score(y_test, y_pred)\n",
        "\n",
        "print(f\"Mean Squared Error (with Normalization): {mse}\")\n",
        "print(f\"R^2 Score (with Normalization): {r2}\")"
      ],
      "metadata": {
        "colab": {
          "base_uri": "https://localhost:8080/"
        },
        "id": "PeCf0Um0-LM0",
        "outputId": "fd7d49d3-3802-4410-f4a8-e550866ce70b"
      },
      "execution_count": 309,
      "outputs": [
        {
          "output_type": "stream",
          "name": "stdout",
          "text": [
            "Mean Squared Error (with Normalization): 73.41944074060865\n",
            "R^2 Score (with Normalization): 0.3322208941068775\n"
          ]
        }
      ]
    },
    {
      "cell_type": "code",
      "source": [
        "import joblib\n",
        "\n",
        "model_filename = 'model.pkl'\n",
        "\n",
        "# Save the model\n",
        "joblib.dump(pipeline, model_filename)"
      ],
      "metadata": {
        "colab": {
          "base_uri": "https://localhost:8080/"
        },
        "id": "kMXRxO4KgA9v",
        "outputId": "ce9c61b2-2eb8-4465-9e73-14e6ec6b0dcb"
      },
      "execution_count": 310,
      "outputs": [
        {
          "output_type": "execute_result",
          "data": {
            "text/plain": [
              "['model.pkl']"
            ]
          },
          "metadata": {},
          "execution_count": 310
        }
      ]
    },
    {
      "cell_type": "code",
      "source": [
        "from sklearn.tree import DecisionTreeRegressor\n",
        "from sklearn.ensemble import RandomForestRegressor, GradientBoostingRegressor\n",
        "\n",
        "pipelines = {\n",
        "    'DecisionTree': Pipeline([\n",
        "        ('target_encoder', TargetEncoder()),\n",
        "        ('regressor', DecisionTreeRegressor(random_state=42))\n",
        "    ]),\n",
        "    'RandomForest': Pipeline([\n",
        "        ('target_encoder', TargetEncoder()),\n",
        "        ('regressor', RandomForestRegressor(n_estimators=100, random_state=42))\n",
        "    ]),\n",
        "    'GradientBoosting': Pipeline([\n",
        "        ('target_encoder', TargetEncoder()),\n",
        "        ('regressor', GradientBoostingRegressor(n_estimators=100, random_state=42))\n",
        "    ])\n",
        "}\n",
        "\n",
        "# Fit and evaluate each model\n",
        "for name, pipeline in pipelines.items():\n",
        "    pipeline.fit(X_train, y_train)\n",
        "    y_pred = pipeline.predict(X_test)\n",
        "    mse = mean_squared_error(y_test, y_pred)\n",
        "    r2 = r2_score(y_test, y_pred)\n",
        "    print(f\"Model: {name}\")\n",
        "    print(f\"Mean Squared Error: {mse}\")\n",
        "    print(f\"R^2 Score : {r2}\")\n",
        "    print(\"----------------------\")"
      ],
      "metadata": {
        "colab": {
          "base_uri": "https://localhost:8080/"
        },
        "id": "sC0znmQV-l_9",
        "outputId": "18a1ff9c-423d-4cfb-cb86-20902515f457"
      },
      "execution_count": 311,
      "outputs": [
        {
          "output_type": "stream",
          "name": "stdout",
          "text": [
            "Model: DecisionTree\n",
            "Mean Squared Error: 80.08081655332067\n",
            "R^2 Score : 0.2716330233827341\n",
            "----------------------\n",
            "Model: RandomForest\n",
            "Mean Squared Error: 70.09746860533531\n",
            "R^2 Score : 0.362435556053597\n",
            "----------------------\n",
            "Model: GradientBoosting\n",
            "Mean Squared Error: 71.77964065636053\n",
            "R^2 Score : 0.34713553010868814\n",
            "----------------------\n"
          ]
        }
      ]
    },
    {
      "cell_type": "code",
      "source": [
        "from sklearn.model_selection import GridSearchCV\n",
        "\n",
        "# Define the pipelines with default hyperparameters\n",
        "pipelines = {\n",
        "    'DecisionTree': Pipeline([\n",
        "        ('target_encoder', TargetEncoder()),\n",
        "        ('regressor', DecisionTreeRegressor(random_state=42))\n",
        "    ]),\n",
        "    'RandomForest': Pipeline([\n",
        "        ('target_encoder', TargetEncoder()),\n",
        "        ('regressor', RandomForestRegressor(n_estimators=100, random_state=42))\n",
        "    ]),\n",
        "    'GradientBoosting': Pipeline([\n",
        "        ('target_encoder', TargetEncoder()),\n",
        "        ('regressor', GradientBoostingRegressor(n_estimators=100, random_state=42))\n",
        "    ])\n",
        "}\n",
        "\n",
        "# Hyperparameters to tune for each model\n",
        "param_grids = {\n",
        "    'DecisionTree': {'regressor__max_depth': [None, 5, 10, 15]},\n",
        "    'RandomForest': {'regressor__max_depth': [None, 5, 10, 15],\n",
        "                     'regressor__min_samples_split': [2, 5, 10]},\n",
        "    'GradientBoosting': {'regressor__max_depth': [3, 5, 7],\n",
        "                         'regressor__learning_rate': [0.1, 0.05, 0.01]}\n",
        "}\n",
        "\n",
        "# Perform GridSearchCV for each model\n",
        "for name, pipeline in pipelines.items():\n",
        "    grid_search = GridSearchCV(pipeline, param_grids[name], scoring='neg_mean_squared_error', cv=5)\n",
        "    grid_search.fit(X_train, y_train)\n",
        "\n",
        "    # Best hyperparameters\n",
        "    print(f\"Best hyperparameters for {name}:\")\n",
        "    print(grid_search.best_params_)\n",
        "\n",
        "    # Evaluate model with best hyperparameters on test set\n",
        "    best_model = grid_search.best_estimator_\n",
        "    y_pred = best_model.predict(X_test)\n",
        "    mse = mean_squared_error(y_test, y_pred)\n",
        "    r2 = r2_score(y_test, y_pred)\n",
        "    print(f\"Mean Squared Error: {mse}\")\n",
        "    print(f\"R^2 Score: {r2}\")\n",
        "    print(\"----------------------\")\n"
      ],
      "metadata": {
        "colab": {
          "base_uri": "https://localhost:8080/"
        },
        "id": "8DJ7LuVS_j_Y",
        "outputId": "d125077e-52b6-475a-f504-7126ee14d710"
      },
      "execution_count": 312,
      "outputs": [
        {
          "output_type": "stream",
          "name": "stdout",
          "text": [
            "Best hyperparameters for DecisionTree:\n",
            "{'regressor__max_depth': 5}\n",
            "Mean Squared Error: 80.36286025843553\n",
            "R^2 Score: 0.2690677233569575\n",
            "----------------------\n",
            "Best hyperparameters for RandomForest:\n",
            "{'regressor__max_depth': 15, 'regressor__min_samples_split': 10}\n",
            "Mean Squared Error: 69.82945796658358\n",
            "R^2 Score: 0.3648732197419897\n",
            "----------------------\n",
            "Best hyperparameters for GradientBoosting:\n",
            "{'regressor__learning_rate': 0.1, 'regressor__max_depth': 3}\n",
            "Mean Squared Error: 71.77964065636053\n",
            "R^2 Score: 0.34713553010868814\n",
            "----------------------\n"
          ]
        }
      ]
    },
    {
      "cell_type": "code",
      "source": [
        "df[['SizeNumeric', 'SizeLetters']] = df['Size'].str.extract(r'(\\d+-?\\d*)(\\D+)')"
      ],
      "metadata": {
        "id": "lCTiUh-VBeUU"
      },
      "execution_count": 313,
      "outputs": []
    },
    {
      "cell_type": "code",
      "source": [
        "df['SizeNumeric'].unique()"
      ],
      "metadata": {
        "colab": {
          "base_uri": "https://localhost:8080/"
        },
        "id": "GuAEnBF_GFba",
        "outputId": "82b445a8-a1b6-45fc-ab85-3044787ac12c"
      },
      "execution_count": 314,
      "outputs": [
        {
          "output_type": "execute_result",
          "data": {
            "text/plain": [
              "array([nan, '3', '6-12', '12-18', '9-12', '6-9', '12', '24', '9', '4-5',\n",
              "       '7', '6-8', '6', '4', '5', '5-6', '18-24', '2-3', '2', '12-24',\n",
              "       '6-18', '18-36', '2-4', '3-4', '1-2', '18', '0-6', '6-7', '3-6',\n",
              "       '7-8', '4-6', '0-4', '0-3', '48', '40', '4-7', '10', '14', '10-12',\n",
              "       '13-14', '14-16', '12-13', '9-10', '8-9', '12-14', '14-15',\n",
              "       '15-16', '1', '8', '6-6', '13', '3-9', '36', '0-2', '11', '8-10',\n",
              "       '9-11', '4-8', '1-3', '0-24', '0-12', '34', '25', '0-1', '10-11',\n",
              "       '20-33', '3-12', '9-18', '0-9', '9-24', '16', '24-36', '3-5',\n",
              "       '0-18', '5-7', '6-36', '0-5', '16-26', '7-18', '23', '1-4', '2-6',\n",
              "       '6-24', '2-5', '11-12', '28', '70', '3-18', '17-24'], dtype=object)"
            ]
          },
          "metadata": {},
          "execution_count": 314
        }
      ]
    },
    {
      "cell_type": "code",
      "source": [
        "def normalize_size(size_range):\n",
        "    if '-' in size_range:  # For range values\n",
        "        lower, upper = map(int, size_range.split('-'))\n",
        "        return (lower + upper) / 2\n",
        "    else:  # For single values\n",
        "        return int(size_range)\n",
        "\n",
        "df['SizeNumeric'].fillna('0', inplace=True)\n",
        "\n",
        "df['NormalizedSize'] = df['SizeNumeric'].apply(normalize_size)"
      ],
      "metadata": {
        "id": "pYjdQP8nH2eM"
      },
      "execution_count": 315,
      "outputs": []
    },
    {
      "cell_type": "code",
      "source": [
        "df['SizeLetters'].unique()"
      ],
      "metadata": {
        "colab": {
          "base_uri": "https://localhost:8080/"
        },
        "id": "dDYHZgNvIg_E",
        "outputId": "296759d6-6802-4c6e-daf6-a4e22861319b"
      },
      "execution_count": 316,
      "outputs": [
        {
          "output_type": "execute_result",
          "data": {
            "text/plain": [
              "array([nan, 'T', 'mos', ' Youth', 'Y', ' Shoes (Toddler)', '.',\n",
              "       ' Shoes (Infant)', 'cm', 'os', 'DD', ' Shoes (Youth)',\n",
              "       ' Shoes (Toddler', ' Shoes (Infant/Toddler)', 'yr',\n",
              "       ' Shoes (Child/Toddler)', ' Shoes', ' mos', ' Infant Shoes',\n",
              "       'mos - ', ' Youth Shoes', 'D', \" Women's)\", 'yrs', 'mnos', 'lb',\n",
              "       ' Shoes (Big Kid)', 'X', ' Infant', ' Toddler', ' Toddler Shoes',\n",
              "       'T-', ' Skates', 'T *small fit', ' Waist', '/', \" Women's\",\n",
              "       'X Youth', 'S', 'X-', ' (Approx ', ' months'], dtype=object)"
            ]
          },
          "metadata": {},
          "execution_count": 316
        }
      ]
    },
    {
      "cell_type": "code",
      "source": [
        "import re\n",
        "\n",
        "def clean_size_letters(size_str):\n",
        "    size_str = re.sub(r'\\W+', '', str(size_str))  # Remove non-alphanumeric characters\n",
        "    size_str = size_str.strip()  # Remove leading/trailing spaces\n",
        "    # Map similar units/categories together\n",
        "    if size_str in ['T', 'Toddler', 'T-', 'Tsmallfit']:  # Example mappings\n",
        "        return 'Toddler'\n",
        "    elif size_str in ['mos', 'months', 'mnos']:\n",
        "        return 'Months'\n",
        "    elif size_str in ['Youth', 'XYouth', 'X']:\n",
        "        return 'Youth'\n",
        "    elif 'Shoes' in size_str:\n",
        "        if size_str in [\"InfantShoes\", \"ShoesInfant\"]:\n",
        "            return \"Shoes Infant\"\n",
        "        elif size_str in [\"YouthShoes\", \"ShoesYouth\"]:\n",
        "            return \"Shoes Youth\"\n",
        "        elif size_str in [\"ToddlerShoes\", \"ShoesToddler\"]:\n",
        "            return \"Shoes Toddler\"\n",
        "        else:\n",
        "            return \"Shoes\"\n",
        "    elif size_str in ['yrs', 'yr', 'Y']:\n",
        "        return 'Year'\n",
        "    elif size_str in ['nan', '']:\n",
        "        return 'unknown'\n",
        "    else:\n",
        "        return size_str\n",
        "\n",
        "df['SizeLetters'].fillna('')\n",
        "# Apply the cleaning function to the 'SizeLetters' column\n",
        "df['CleanedSizeLetters'] = df['SizeLetters'].apply(clean_size_letters)"
      ],
      "metadata": {
        "id": "1acthNpbJMgd"
      },
      "execution_count": 317,
      "outputs": []
    },
    {
      "cell_type": "code",
      "source": [
        "df['CleanedSizeLetters'].value_counts()"
      ],
      "metadata": {
        "colab": {
          "base_uri": "https://localhost:8080/"
        },
        "id": "Mh33wYI9LNpU",
        "outputId": "b27c05bb-220d-48ba-fd45-b7ebaeb08e15"
      },
      "execution_count": 318,
      "outputs": [
        {
          "output_type": "execute_result",
          "data": {
            "text/plain": [
              "Months           4325\n",
              "Toddler          2066\n",
              "unknown           687\n",
              "Youth             417\n",
              "Year              314\n",
              "Shoes             201\n",
              "Shoes Toddler     167\n",
              "Shoes Infant       41\n",
              "Shoes Youth        10\n",
              "lb                  4\n",
              "DD                  3\n",
              "Infant              3\n",
              "Womens              2\n",
              "os                  1\n",
              "cm                  1\n",
              "D                   1\n",
              "Skates              1\n",
              "Waist               1\n",
              "S                   1\n",
              "Approx              1\n",
              "Name: CleanedSizeLetters, dtype: int64"
            ]
          },
          "metadata": {},
          "execution_count": 318
        }
      ]
    },
    {
      "cell_type": "code",
      "source": [
        "feature_set = {\"Type\", \"Vendor\", \"Cleaned Condition\", \"Variant Price\", \"CleanedSizeLetters\", \"NormalizedSize\", \"joggers\", \"jeans\", \"leggings\"}\n",
        "ds = df[list(feature_set)]\n",
        "ds= ds[outlier_msk]\n",
        "ds.head()"
      ],
      "metadata": {
        "colab": {
          "base_uri": "https://localhost:8080/",
          "height": 206
        },
        "id": "lPcXP3IMNaxL",
        "outputId": "64a21adf-de2f-4701-e929-32262ddb6067"
      },
      "execution_count": 319,
      "outputs": [
        {
          "output_type": "execute_result",
          "data": {
            "text/plain": [
              "   NormalizedSize CleanedSizeLetters  joggers Cleaned Condition  jeans  \\\n",
              "0             0.0            unknown        0         excellent      0   \n",
              "1             3.0            Toddler        0         very good      0   \n",
              "2             3.0            Toddler        0         excellent      0   \n",
              "3             0.0            unknown        0         excellent      0   \n",
              "4             9.0             Months        0         excellent      0   \n",
              "\n",
              "   leggings  Variant Price         Type         Vendor  \n",
              "0         0           13.0         Toys       Jellycat  \n",
              "1         0           13.0         Tops  Jumping Beans  \n",
              "2         0           11.0         Tops         Uniqlo  \n",
              "3         0            7.0  Accessories        Various  \n",
              "4         0           13.0         Tops            Gap  "
            ],
            "text/html": [
              "\n",
              "  <div id=\"df-1722895a-d0a7-4b56-bffc-93a52714746b\" class=\"colab-df-container\">\n",
              "    <div>\n",
              "<style scoped>\n",
              "    .dataframe tbody tr th:only-of-type {\n",
              "        vertical-align: middle;\n",
              "    }\n",
              "\n",
              "    .dataframe tbody tr th {\n",
              "        vertical-align: top;\n",
              "    }\n",
              "\n",
              "    .dataframe thead th {\n",
              "        text-align: right;\n",
              "    }\n",
              "</style>\n",
              "<table border=\"1\" class=\"dataframe\">\n",
              "  <thead>\n",
              "    <tr style=\"text-align: right;\">\n",
              "      <th></th>\n",
              "      <th>NormalizedSize</th>\n",
              "      <th>CleanedSizeLetters</th>\n",
              "      <th>joggers</th>\n",
              "      <th>Cleaned Condition</th>\n",
              "      <th>jeans</th>\n",
              "      <th>leggings</th>\n",
              "      <th>Variant Price</th>\n",
              "      <th>Type</th>\n",
              "      <th>Vendor</th>\n",
              "    </tr>\n",
              "  </thead>\n",
              "  <tbody>\n",
              "    <tr>\n",
              "      <th>0</th>\n",
              "      <td>0.0</td>\n",
              "      <td>unknown</td>\n",
              "      <td>0</td>\n",
              "      <td>excellent</td>\n",
              "      <td>0</td>\n",
              "      <td>0</td>\n",
              "      <td>13.0</td>\n",
              "      <td>Toys</td>\n",
              "      <td>Jellycat</td>\n",
              "    </tr>\n",
              "    <tr>\n",
              "      <th>1</th>\n",
              "      <td>3.0</td>\n",
              "      <td>Toddler</td>\n",
              "      <td>0</td>\n",
              "      <td>very good</td>\n",
              "      <td>0</td>\n",
              "      <td>0</td>\n",
              "      <td>13.0</td>\n",
              "      <td>Tops</td>\n",
              "      <td>Jumping Beans</td>\n",
              "    </tr>\n",
              "    <tr>\n",
              "      <th>2</th>\n",
              "      <td>3.0</td>\n",
              "      <td>Toddler</td>\n",
              "      <td>0</td>\n",
              "      <td>excellent</td>\n",
              "      <td>0</td>\n",
              "      <td>0</td>\n",
              "      <td>11.0</td>\n",
              "      <td>Tops</td>\n",
              "      <td>Uniqlo</td>\n",
              "    </tr>\n",
              "    <tr>\n",
              "      <th>3</th>\n",
              "      <td>0.0</td>\n",
              "      <td>unknown</td>\n",
              "      <td>0</td>\n",
              "      <td>excellent</td>\n",
              "      <td>0</td>\n",
              "      <td>0</td>\n",
              "      <td>7.0</td>\n",
              "      <td>Accessories</td>\n",
              "      <td>Various</td>\n",
              "    </tr>\n",
              "    <tr>\n",
              "      <th>4</th>\n",
              "      <td>9.0</td>\n",
              "      <td>Months</td>\n",
              "      <td>0</td>\n",
              "      <td>excellent</td>\n",
              "      <td>0</td>\n",
              "      <td>0</td>\n",
              "      <td>13.0</td>\n",
              "      <td>Tops</td>\n",
              "      <td>Gap</td>\n",
              "    </tr>\n",
              "  </tbody>\n",
              "</table>\n",
              "</div>\n",
              "    <div class=\"colab-df-buttons\">\n",
              "\n",
              "  <div class=\"colab-df-container\">\n",
              "    <button class=\"colab-df-convert\" onclick=\"convertToInteractive('df-1722895a-d0a7-4b56-bffc-93a52714746b')\"\n",
              "            title=\"Convert this dataframe to an interactive table.\"\n",
              "            style=\"display:none;\">\n",
              "\n",
              "  <svg xmlns=\"http://www.w3.org/2000/svg\" height=\"24px\" viewBox=\"0 -960 960 960\">\n",
              "    <path d=\"M120-120v-720h720v720H120Zm60-500h600v-160H180v160Zm220 220h160v-160H400v160Zm0 220h160v-160H400v160ZM180-400h160v-160H180v160Zm440 0h160v-160H620v160ZM180-180h160v-160H180v160Zm440 0h160v-160H620v160Z\"/>\n",
              "  </svg>\n",
              "    </button>\n",
              "\n",
              "  <style>\n",
              "    .colab-df-container {\n",
              "      display:flex;\n",
              "      gap: 12px;\n",
              "    }\n",
              "\n",
              "    .colab-df-convert {\n",
              "      background-color: #E8F0FE;\n",
              "      border: none;\n",
              "      border-radius: 50%;\n",
              "      cursor: pointer;\n",
              "      display: none;\n",
              "      fill: #1967D2;\n",
              "      height: 32px;\n",
              "      padding: 0 0 0 0;\n",
              "      width: 32px;\n",
              "    }\n",
              "\n",
              "    .colab-df-convert:hover {\n",
              "      background-color: #E2EBFA;\n",
              "      box-shadow: 0px 1px 2px rgba(60, 64, 67, 0.3), 0px 1px 3px 1px rgba(60, 64, 67, 0.15);\n",
              "      fill: #174EA6;\n",
              "    }\n",
              "\n",
              "    .colab-df-buttons div {\n",
              "      margin-bottom: 4px;\n",
              "    }\n",
              "\n",
              "    [theme=dark] .colab-df-convert {\n",
              "      background-color: #3B4455;\n",
              "      fill: #D2E3FC;\n",
              "    }\n",
              "\n",
              "    [theme=dark] .colab-df-convert:hover {\n",
              "      background-color: #434B5C;\n",
              "      box-shadow: 0px 1px 3px 1px rgba(0, 0, 0, 0.15);\n",
              "      filter: drop-shadow(0px 1px 2px rgba(0, 0, 0, 0.3));\n",
              "      fill: #FFFFFF;\n",
              "    }\n",
              "  </style>\n",
              "\n",
              "    <script>\n",
              "      const buttonEl =\n",
              "        document.querySelector('#df-1722895a-d0a7-4b56-bffc-93a52714746b button.colab-df-convert');\n",
              "      buttonEl.style.display =\n",
              "        google.colab.kernel.accessAllowed ? 'block' : 'none';\n",
              "\n",
              "      async function convertToInteractive(key) {\n",
              "        const element = document.querySelector('#df-1722895a-d0a7-4b56-bffc-93a52714746b');\n",
              "        const dataTable =\n",
              "          await google.colab.kernel.invokeFunction('convertToInteractive',\n",
              "                                                    [key], {});\n",
              "        if (!dataTable) return;\n",
              "\n",
              "        const docLinkHtml = 'Like what you see? Visit the ' +\n",
              "          '<a target=\"_blank\" href=https://colab.research.google.com/notebooks/data_table.ipynb>data table notebook</a>'\n",
              "          + ' to learn more about interactive tables.';\n",
              "        element.innerHTML = '';\n",
              "        dataTable['output_type'] = 'display_data';\n",
              "        await google.colab.output.renderOutput(dataTable, element);\n",
              "        const docLink = document.createElement('div');\n",
              "        docLink.innerHTML = docLinkHtml;\n",
              "        element.appendChild(docLink);\n",
              "      }\n",
              "    </script>\n",
              "  </div>\n",
              "\n",
              "\n",
              "<div id=\"df-019d486f-1918-49ae-aa08-c7db52b034e9\">\n",
              "  <button class=\"colab-df-quickchart\" onclick=\"quickchart('df-019d486f-1918-49ae-aa08-c7db52b034e9')\"\n",
              "            title=\"Suggest charts\"\n",
              "            style=\"display:none;\">\n",
              "\n",
              "<svg xmlns=\"http://www.w3.org/2000/svg\" height=\"24px\"viewBox=\"0 0 24 24\"\n",
              "     width=\"24px\">\n",
              "    <g>\n",
              "        <path d=\"M19 3H5c-1.1 0-2 .9-2 2v14c0 1.1.9 2 2 2h14c1.1 0 2-.9 2-2V5c0-1.1-.9-2-2-2zM9 17H7v-7h2v7zm4 0h-2V7h2v10zm4 0h-2v-4h2v4z\"/>\n",
              "    </g>\n",
              "</svg>\n",
              "  </button>\n",
              "\n",
              "<style>\n",
              "  .colab-df-quickchart {\n",
              "      --bg-color: #E8F0FE;\n",
              "      --fill-color: #1967D2;\n",
              "      --hover-bg-color: #E2EBFA;\n",
              "      --hover-fill-color: #174EA6;\n",
              "      --disabled-fill-color: #AAA;\n",
              "      --disabled-bg-color: #DDD;\n",
              "  }\n",
              "\n",
              "  [theme=dark] .colab-df-quickchart {\n",
              "      --bg-color: #3B4455;\n",
              "      --fill-color: #D2E3FC;\n",
              "      --hover-bg-color: #434B5C;\n",
              "      --hover-fill-color: #FFFFFF;\n",
              "      --disabled-bg-color: #3B4455;\n",
              "      --disabled-fill-color: #666;\n",
              "  }\n",
              "\n",
              "  .colab-df-quickchart {\n",
              "    background-color: var(--bg-color);\n",
              "    border: none;\n",
              "    border-radius: 50%;\n",
              "    cursor: pointer;\n",
              "    display: none;\n",
              "    fill: var(--fill-color);\n",
              "    height: 32px;\n",
              "    padding: 0;\n",
              "    width: 32px;\n",
              "  }\n",
              "\n",
              "  .colab-df-quickchart:hover {\n",
              "    background-color: var(--hover-bg-color);\n",
              "    box-shadow: 0 1px 2px rgba(60, 64, 67, 0.3), 0 1px 3px 1px rgba(60, 64, 67, 0.15);\n",
              "    fill: var(--button-hover-fill-color);\n",
              "  }\n",
              "\n",
              "  .colab-df-quickchart-complete:disabled,\n",
              "  .colab-df-quickchart-complete:disabled:hover {\n",
              "    background-color: var(--disabled-bg-color);\n",
              "    fill: var(--disabled-fill-color);\n",
              "    box-shadow: none;\n",
              "  }\n",
              "\n",
              "  .colab-df-spinner {\n",
              "    border: 2px solid var(--fill-color);\n",
              "    border-color: transparent;\n",
              "    border-bottom-color: var(--fill-color);\n",
              "    animation:\n",
              "      spin 1s steps(1) infinite;\n",
              "  }\n",
              "\n",
              "  @keyframes spin {\n",
              "    0% {\n",
              "      border-color: transparent;\n",
              "      border-bottom-color: var(--fill-color);\n",
              "      border-left-color: var(--fill-color);\n",
              "    }\n",
              "    20% {\n",
              "      border-color: transparent;\n",
              "      border-left-color: var(--fill-color);\n",
              "      border-top-color: var(--fill-color);\n",
              "    }\n",
              "    30% {\n",
              "      border-color: transparent;\n",
              "      border-left-color: var(--fill-color);\n",
              "      border-top-color: var(--fill-color);\n",
              "      border-right-color: var(--fill-color);\n",
              "    }\n",
              "    40% {\n",
              "      border-color: transparent;\n",
              "      border-right-color: var(--fill-color);\n",
              "      border-top-color: var(--fill-color);\n",
              "    }\n",
              "    60% {\n",
              "      border-color: transparent;\n",
              "      border-right-color: var(--fill-color);\n",
              "    }\n",
              "    80% {\n",
              "      border-color: transparent;\n",
              "      border-right-color: var(--fill-color);\n",
              "      border-bottom-color: var(--fill-color);\n",
              "    }\n",
              "    90% {\n",
              "      border-color: transparent;\n",
              "      border-bottom-color: var(--fill-color);\n",
              "    }\n",
              "  }\n",
              "</style>\n",
              "\n",
              "  <script>\n",
              "    async function quickchart(key) {\n",
              "      const quickchartButtonEl =\n",
              "        document.querySelector('#' + key + ' button');\n",
              "      quickchartButtonEl.disabled = true;  // To prevent multiple clicks.\n",
              "      quickchartButtonEl.classList.add('colab-df-spinner');\n",
              "      try {\n",
              "        const charts = await google.colab.kernel.invokeFunction(\n",
              "            'suggestCharts', [key], {});\n",
              "      } catch (error) {\n",
              "        console.error('Error during call to suggestCharts:', error);\n",
              "      }\n",
              "      quickchartButtonEl.classList.remove('colab-df-spinner');\n",
              "      quickchartButtonEl.classList.add('colab-df-quickchart-complete');\n",
              "    }\n",
              "    (() => {\n",
              "      let quickchartButtonEl =\n",
              "        document.querySelector('#df-019d486f-1918-49ae-aa08-c7db52b034e9 button');\n",
              "      quickchartButtonEl.style.display =\n",
              "        google.colab.kernel.accessAllowed ? 'block' : 'none';\n",
              "    })();\n",
              "  </script>\n",
              "</div>\n",
              "\n",
              "    </div>\n",
              "  </div>\n"
            ]
          },
          "metadata": {},
          "execution_count": 319
        }
      ]
    },
    {
      "cell_type": "code",
      "source": [
        "import matplotlib.pyplot as plt\n",
        "\n",
        "# Assuming 'Size' column contains cleaned numeric values (floats or integers)\n",
        "plt.figure(figsize=(8, 6))\n",
        "plt.scatter(ds['NormalizedSize'], ds['Variant Price'], alpha=0.5)\n",
        "plt.title('Price vs. Size')\n",
        "plt.xlabel('Size')\n",
        "plt.ylabel('Price')\n",
        "plt.grid(True)\n",
        "plt.show()\n"
      ],
      "metadata": {
        "colab": {
          "base_uri": "https://localhost:8080/",
          "height": 564
        },
        "id": "oFS2uCLMPfWu",
        "outputId": "8b8cfb62-bd5e-48e5-8ee4-98223498605d"
      },
      "execution_count": 320,
      "outputs": [
        {
          "output_type": "display_data",
          "data": {
            "text/plain": [
              "<Figure size 800x600 with 1 Axes>"
            ],
            "image/png": "[encoded data removed]"
          },
          "metadata": {}
        }
      ]
    },
    {
      "cell_type": "code",
      "source": [
        "X = ds.drop('Variant Price', axis=1)  # Features\n",
        "y = ds['Variant Price']  # Target variable\n",
        "\n",
        "# Splitting the data into train and test sets (change test_size and random_state as needed)\n",
        "X_train, X_test, y_train, y_test = train_test_split(X, y, test_size=0.2, random_state=42)"
      ],
      "metadata": {
        "id": "M-QspP8QTlbY"
      },
      "execution_count": 321,
      "outputs": []
    },
    {
      "cell_type": "code",
      "source": [
        "categorical_cols = ['Vendor', 'Type', 'Cleaned Condition']  # Columns to target encode\n",
        "one_hot_cols = ['CleanedSizeLetters']  # Column to one-hot encode\n",
        "\n",
        "# Define the transformers for different column types\n",
        "target_encoder = TargetEncoder()\n",
        "one_hot_transformer = OneHotEncoder(drop='if_binary', sparse_output=False, handle_unknown='ignore')\n",
        "\n",
        "# Create a preprocessor for target encoding and one-hot encoding\n",
        "preprocessor = ColumnTransformer(\n",
        "    transformers=[\n",
        "        ('target_encoder', target_encoder, categorical_cols),\n",
        "        ('one_hot', one_hot_transformer, one_hot_cols),\n",
        "    ],\n",
        "    remainder='passthrough'  # Pass through any columns not specified\n",
        ")\n",
        "\n",
        "# Create the pipeline\n",
        "pipeline = Pipeline([\n",
        "    ('preprocessor', preprocessor),\n",
        "    ('regressor', LinearRegression())\n",
        "])\n",
        "\n",
        "# Fit the pipeline on training data\n",
        "pipeline.fit(X_train, y_train)\n",
        "\n",
        "# Predict on the test set\n",
        "y_pred = pipeline.predict(X_test)\n",
        "\n",
        "# Calculate metrics\n",
        "mse = mean_squared_error(y_test, y_pred)\n",
        "r2 = r2_score(y_test, y_pred)\n",
        "\n",
        "print(f\"Mean Squared Error: {mse}\")\n",
        "print(f\"R^2 Score: {r2}\")"
      ],
      "metadata": {
        "colab": {
          "base_uri": "https://localhost:8080/"
        },
        "id": "iV1EtBKXRh7N",
        "outputId": "ad2ff4b9-e6b5-4566-c542-c0f5edf59e09"
      },
      "execution_count": 322,
      "outputs": [
        {
          "output_type": "stream",
          "name": "stdout",
          "text": [
            "Mean Squared Error: 72.71933700183553\n",
            "R^2 Score: 0.33858861693334363\n"
          ]
        },
        {
          "output_type": "stream",
          "name": "stderr",
          "text": [
            "/usr/local/lib/python3.10/dist-packages/sklearn/preprocessing/_encoders.py:202: UserWarning: Found unknown categories in columns [0] during transform. These unknown categories will be encoded as all zeros\n",
            "  warnings.warn(\n"
          ]
        }
      ]
    },
    {
      "cell_type": "code",
      "source": [
        "model_filename = 'optional_model.pkl'\n",
        "\n",
        "# Save the model\n",
        "joblib.dump(pipeline, model_filename)"
      ],
      "metadata": {
        "colab": {
          "base_uri": "https://localhost:8080/"
        },
        "id": "ccbj6GHqa6JB",
        "outputId": "711e53c2-d6ff-4adb-98d0-7f58bbb05fa8"
      },
      "execution_count": 323,
      "outputs": [
        {
          "output_type": "execute_result",
          "data": {
            "text/plain": [
              "['optional_model.pkl']"
            ]
          },
          "metadata": {},
          "execution_count": 323
        }
      ]
    },
    {
      "cell_type": "code",
      "source": [
        "import re\n",
        "\n",
        "def extract(text):\n",
        "    match = re.match(r'(\\d+-?\\d*)(\\D+)', text)\n",
        "    if match:\n",
        "        return match.groups()\n",
        "    return \"0\", \"unknown\"\n",
        "\n",
        "def categorize_condition(condition):\n",
        "    condition = condition.lower()  # Convert to lowercase for uniform comparison\n",
        "\n",
        "    if 'excellent' in condition:\n",
        "        return 'excellent'\n",
        "    elif 'very good' in condition:\n",
        "        return 'very good'\n",
        "    elif 'like new' in condition or 'practically new' in condition:\n",
        "        return 'like new'\n",
        "    elif 'new with tags' in condition:\n",
        "        return 'new with tags'\n",
        "    elif 'new without tags' in condition:\n",
        "        return 'new without tags'\n",
        "    elif 'good' in condition:\n",
        "        return 'good'\n",
        "    elif 'play' in condition:\n",
        "        return 'play'\n",
        "    else:\n",
        "        return 'unknown'  # Assign unknown for unknown/vague conditions or empty strings\n",
        "\n",
        "def normalize_size(size_range):\n",
        "    if '-' in size_range:  # For range values\n",
        "        lower, upper = map(int, size_range.split('-'))\n",
        "        return (lower + upper) / 2\n",
        "    else:  # For single values\n",
        "        return int(size_range)\n",
        "\n",
        "def clean_size_letters(size_str):\n",
        "    size_str = re.sub(r'\\W+', '', str(size_str))  # Remove non-alphanumeric characters\n",
        "    size_str = size_str.strip()  # Remove leading/trailing spaces\n",
        "    # Map similar units/categories together\n",
        "    if size_str in ['T', 'Toddler', 'T-', 'Tsmallfit']:  # Example mappings\n",
        "        return 'Toddler'\n",
        "    elif size_str in ['mos', 'months', 'mnos']:\n",
        "        return 'Months'\n",
        "    elif size_str in ['Youth', 'XYouth', 'X']:\n",
        "        return 'Youth'\n",
        "    elif 'Shoes' in size_str:\n",
        "        if size_str in [\"InfantShoes\", \"ShoesInfant\"]:\n",
        "            return \"Shoes Infant\"\n",
        "        elif size_str in [\"YouthShoes\", \"ShoesYouth\"]:\n",
        "            return \"Shoes Youth\"\n",
        "        elif size_str in [\"ToddlerShoes\", \"ShoesToddler\"]:\n",
        "            return \"Shoes Toddler\"\n",
        "        else:\n",
        "            return \"Shoes\"\n",
        "    elif size_str in ['yrs', 'yr', 'Y']:\n",
        "        return 'Year'\n",
        "    elif size_str in ['nan', '']:\n",
        "        return 'unknown'\n",
        "    else:\n",
        "        return size_str\n"
      ],
      "metadata": {
        "id": "BmGPxBT7jK3X"
      },
      "execution_count": 362,
      "outputs": []
    },
    {
      "cell_type": "code",
      "source": [
        "def preprocess_input(vendor, type, condition, size=None, title=None):\n",
        "    input_dict = {\n",
        "        \"Vendor\": vendor,\n",
        "        \"Type\": type,\n",
        "        \"Cleaned Condition\": categorize_condition(condition),\n",
        "        \"NormalizedSize\": 0,\n",
        "        \"CleanedSizeLetters\":\"unknown\",\n",
        "        \"joggers\":0,\n",
        "        \"jeans\":0,\n",
        "        \"leggings\":0\n",
        "    }\n",
        "\n",
        "    if size:\n",
        "        try:\n",
        "            number, letter = extract(size)\n",
        "            input_dict[\"NormalizedSize\"] = normalize_size(number)\n",
        "            input_dict[\"CleanedSizeLetters\"] = clean_size_letters(letter)\n",
        "        except Exception as e:\n",
        "            print(f\"Error processing size: {e}\")\n",
        "\n",
        "    if title:\n",
        "        try:\n",
        "            if \"joggers\" in title.lower():\n",
        "                input_dict[\"joggers\"]= 1\n",
        "            elif \"jeans\" in title.lower():\n",
        "                input_dict[\"jeans\"]= 1\n",
        "            elif \"leggings\" in title.lower():\n",
        "                input_dict[\"leggings\"] = 1\n",
        "        except Exception as e:\n",
        "            print(f\"Error processing title: {e}\")\n",
        "\n",
        "    return input_dict"
      ],
      "metadata": {
        "id": "jB9pcrVnUP8-"
      },
      "execution_count": 363,
      "outputs": []
    },
    {
      "cell_type": "code",
      "source": [
        "def make_prediction(input_dict):\n",
        "    input_df = pd.DataFrame([input_dict])\n",
        "    model = joblib.load(\"optional_model.pkl\")\n",
        "    prediction = model.predict(input_df)\n",
        "    return prediction[0]\n",
        ""
      ],
      "metadata": {
        "id": "6eVx1WjTWzHx"
      },
      "execution_count": 364,
      "outputs": []
    },
    {
      "cell_type": "code",
      "source": [],
      "metadata": {
        "id": "pRbR6rhznEtV"
      },
      "execution_count": null,
      "outputs": []
    }
  ]
}